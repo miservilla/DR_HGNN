{
 "cells": [
  {
   "cell_type": "markdown",
   "metadata": {
    "id": "_q8b50ZwQTZm"
   },
   "source": [
    "# Link prediction with GraphSAGE"
   ]
  },
  {
   "cell_type": "code",
   "execution_count": 1,
   "metadata": {
    "id": "YU5okg2tQTaG"
   },
   "outputs": [
    {
     "name": "stderr",
     "output_type": "stream",
     "text": [
      "2024-06-11 12:39:40.744182: W tensorflow/stream_executor/platform/default/dso_loader.cc:59] Could not load dynamic library 'libcudart.so.10.1'; dlerror: libcudart.so.10.1: cannot open shared object file: No such file or directory\n",
      "2024-06-11 12:39:40.744203: I tensorflow/stream_executor/cuda/cudart_stub.cc:29] Ignore above cudart dlerror if you do not have a GPU set up on your machine.\n",
      "2024-06-11 12:39:41.496746: I tensorflow/stream_executor/platform/default/dso_loader.cc:48] Successfully opened dynamic library libcuda.so.1\n",
      "2024-06-11 12:39:41.529126: I tensorflow/core/common_runtime/gpu/gpu_device.cc:1716] Found device 0 with properties: \n",
      "pciBusID: 0000:ca:00.0 name: NVIDIA A100 80GB PCIe computeCapability: 8.0\n",
      "coreClock: 1.41GHz coreCount: 108 deviceMemorySize: 79.15GiB deviceMemoryBandwidth: 1.76TiB/s\n",
      "2024-06-11 12:39:41.529217: W tensorflow/stream_executor/platform/default/dso_loader.cc:59] Could not load dynamic library 'libcudart.so.10.1'; dlerror: libcudart.so.10.1: cannot open shared object file: No such file or directory\n",
      "2024-06-11 12:39:41.529269: W tensorflow/stream_executor/platform/default/dso_loader.cc:59] Could not load dynamic library 'libcublas.so.10'; dlerror: libcublas.so.10: cannot open shared object file: No such file or directory\n",
      "2024-06-11 12:39:41.532654: I tensorflow/stream_executor/platform/default/dso_loader.cc:48] Successfully opened dynamic library libcufft.so.10\n",
      "2024-06-11 12:39:41.532889: I tensorflow/stream_executor/platform/default/dso_loader.cc:48] Successfully opened dynamic library libcurand.so.10\n",
      "2024-06-11 12:39:41.532933: W tensorflow/stream_executor/platform/default/dso_loader.cc:59] Could not load dynamic library 'libcusolver.so.10'; dlerror: libcusolver.so.10: cannot open shared object file: No such file or directory\n",
      "2024-06-11 12:39:41.532962: W tensorflow/stream_executor/platform/default/dso_loader.cc:59] Could not load dynamic library 'libcusparse.so.10'; dlerror: libcusparse.so.10: cannot open shared object file: No such file or directory\n",
      "2024-06-11 12:39:41.532992: W tensorflow/stream_executor/platform/default/dso_loader.cc:59] Could not load dynamic library 'libcudnn.so.7'; dlerror: libcudnn.so.7: cannot open shared object file: No such file or directory\n",
      "2024-06-11 12:39:41.532996: W tensorflow/core/common_runtime/gpu/gpu_device.cc:1753] Cannot dlopen some GPU libraries. Please make sure the missing libraries mentioned above are installed properly if you would like to use GPU. Follow the guide at https://www.tensorflow.org/install/gpu for how to download and setup the required libraries for your platform.\n",
      "Skipping registering GPU devices...\n",
      "2024-06-11 12:39:41.533327: I tensorflow/core/platform/cpu_feature_guard.cc:142] This TensorFlow binary is optimized with oneAPI Deep Neural Network Library (oneDNN)to use the following CPU instructions in performance-critical operations:  AVX2 AVX512F FMA\n",
      "To enable them in other operations, rebuild TensorFlow with the appropriate compiler flags.\n",
      "2024-06-11 12:39:41.565986: I tensorflow/core/platform/profile_utils/cpu_utils.cc:104] CPU Frequency: 2000000000 Hz\n",
      "2024-06-11 12:39:41.575390: I tensorflow/compiler/xla/service/service.cc:168] XLA service 0x728b5e0 initialized for platform Host (this does not guarantee that XLA will be used). Devices:\n",
      "2024-06-11 12:39:41.575407: I tensorflow/compiler/xla/service/service.cc:176]   StreamExecutor device (0): Host, Default Version\n",
      "2024-06-11 12:39:41.576797: I tensorflow/core/common_runtime/gpu/gpu_device.cc:1257] Device interconnect StreamExecutor with strength 1 edge matrix:\n",
      "2024-06-11 12:39:41.576808: I tensorflow/core/common_runtime/gpu/gpu_device.cc:1263]      \n"
     ]
    }
   ],
   "source": [
    "import json\n",
    "import pandas as pd\n",
    "import numpy as np\n",
    "from sklearn import preprocessing, feature_extraction, model_selection\n",
    "from sklearn.metrics import mean_absolute_error, mean_squared_error\n",
    "\n",
    "import stellargraph as StellarGraph\n",
    "from stellargraph.mapper import HinSAGELinkGenerator\n",
    "from stellargraph.layer import HinSAGE, link_regression\n",
    "from tensorflow.keras import Model, optimizers, losses, metrics\n",
    "\n",
    "import multiprocessing\n",
    "from stellargraph import datasets\n",
    "from IPython.display import display, HTML\n",
    "import matplotlib.pyplot as plt\n",
    "%matplotlib inline\n",
    "import stellargraph as sg\n",
    "from stellargraph.data import EdgeSplitter\n",
    "from stellargraph.mapper import GraphSAGELinkGenerator ,HinSAGELinkGenerator\n",
    "from stellargraph.layer import GraphSAGE, HinSAGE, link_classification\n",
    "\n",
    "from tensorflow import keras\n",
    "from sklearn import preprocessing, feature_extraction, model_selection\n",
    "\n",
    "from stellargraph import globalvar\n",
    "from stellargraph import datasets\n",
    "from IPython.display import display, HTML\n",
    "%matplotlib inline"
   ]
  },
  {
   "cell_type": "code",
   "execution_count": 2,
   "metadata": {
    "id": "XGOFTbrqQizG"
   },
   "outputs": [],
   "source": [
    "Dr_emb = pd.read_csv('drug_vector_d100.csv')\n",
    "Dr_name = pd.read_csv('drugn.csv')\n",
    "Dr_emb.index=Dr_name['id']\n",
    "Pro_emb = pd.read_csv('protein_vector_d400.csv')\n",
    "Pro_name = pd.read_csv('protn.csv')\n",
    "Pro_emb.index=Pro_name['id']"
   ]
  },
  {
   "cell_type": "code",
   "execution_count": 3,
   "metadata": {
    "colab": {
     "base_uri": "https://localhost:8080/",
     "height": 424
    },
    "id": "qNB7lHQiQlDN",
    "outputId": "e73c7b5b-a3eb-4435-df2f-b60c6b9519e7"
   },
   "outputs": [
    {
     "data": {
      "text/html": [
       "<div>\n",
       "<style scoped>\n",
       "    .dataframe tbody tr th:only-of-type {\n",
       "        vertical-align: middle;\n",
       "    }\n",
       "\n",
       "    .dataframe tbody tr th {\n",
       "        vertical-align: top;\n",
       "    }\n",
       "\n",
       "    .dataframe thead th {\n",
       "        text-align: right;\n",
       "    }\n",
       "</style>\n",
       "<table border=\"1\" class=\"dataframe\">\n",
       "  <thead>\n",
       "    <tr style=\"text-align: right;\">\n",
       "      <th></th>\n",
       "      <th>source</th>\n",
       "      <th>target</th>\n",
       "      <th>orientation</th>\n",
       "    </tr>\n",
       "  </thead>\n",
       "  <tbody>\n",
       "    <tr>\n",
       "      <th>0</th>\n",
       "      <td>r1</td>\n",
       "      <td>p113</td>\n",
       "      <td>430</td>\n",
       "    </tr>\n",
       "    <tr>\n",
       "      <th>1</th>\n",
       "      <td>r1</td>\n",
       "      <td>p76</td>\n",
       "      <td>634</td>\n",
       "    </tr>\n",
       "    <tr>\n",
       "      <th>2</th>\n",
       "      <td>r10</td>\n",
       "      <td>p367</td>\n",
       "      <td>706</td>\n",
       "    </tr>\n",
       "    <tr>\n",
       "      <th>3</th>\n",
       "      <td>r10</td>\n",
       "      <td>p65</td>\n",
       "      <td>706</td>\n",
       "    </tr>\n",
       "    <tr>\n",
       "      <th>4</th>\n",
       "      <td>r100</td>\n",
       "      <td>p146</td>\n",
       "      <td>156</td>\n",
       "    </tr>\n",
       "    <tr>\n",
       "      <th>...</th>\n",
       "      <td>...</td>\n",
       "      <td>...</td>\n",
       "      <td>...</td>\n",
       "    </tr>\n",
       "    <tr>\n",
       "      <th>1918</th>\n",
       "      <td>r98</td>\n",
       "      <td>p11</td>\n",
       "      <td>80</td>\n",
       "    </tr>\n",
       "    <tr>\n",
       "      <th>1919</th>\n",
       "      <td>r98</td>\n",
       "      <td>p120</td>\n",
       "      <td>80</td>\n",
       "    </tr>\n",
       "    <tr>\n",
       "      <th>1920</th>\n",
       "      <td>r98</td>\n",
       "      <td>p151</td>\n",
       "      <td>80</td>\n",
       "    </tr>\n",
       "    <tr>\n",
       "      <th>1921</th>\n",
       "      <td>r98</td>\n",
       "      <td>p575</td>\n",
       "      <td>130</td>\n",
       "    </tr>\n",
       "    <tr>\n",
       "      <th>1922</th>\n",
       "      <td>r98</td>\n",
       "      <td>p815</td>\n",
       "      <td>706</td>\n",
       "    </tr>\n",
       "  </tbody>\n",
       "</table>\n",
       "<p>1923 rows × 3 columns</p>\n",
       "</div>"
      ],
      "text/plain": [
       "     source target  orientation\n",
       "0        r1   p113          430\n",
       "1        r1    p76          634\n",
       "2       r10   p367          706\n",
       "3       r10    p65          706\n",
       "4      r100   p146          156\n",
       "...     ...    ...          ...\n",
       "1918    r98    p11           80\n",
       "1919    r98   p120           80\n",
       "1920    r98   p151           80\n",
       "1921    r98   p575          130\n",
       "1922    r98   p815          706\n",
       "\n",
       "[1923 rows x 3 columns]"
      ]
     },
     "execution_count": 3,
     "metadata": {},
     "output_type": "execute_result"
    }
   ],
   "source": [
    "DTI=pd.read_csv('dtinew.csv')\n",
    "DTI\n",
    "#DTI.dropna()"
   ]
  },
  {
   "cell_type": "code",
   "execution_count": 4,
   "metadata": {
    "id": "ldqNKE0aQl3k"
   },
   "outputs": [],
   "source": [
    "from stellargraph import StellarGraph\n",
    "G= StellarGraph({\"Drug\": Dr_emb, \"Protein\": Pro_emb},{'Disease':DTI})"
   ]
  },
  {
   "cell_type": "code",
   "execution_count": 5,
   "metadata": {
    "colab": {
     "base_uri": "https://localhost:8080/"
    },
    "id": "FhjemTvlQTaa",
    "outputId": "1dcdad03-ba89-4cd8-b676-87e2d1baa8c9"
   },
   "outputs": [
    {
     "name": "stdout",
     "output_type": "stream",
     "text": [
      "StellarGraph: Undirected multigraph\n",
      " Nodes: 2201, Edges: 1923\n",
      "\n",
      " Node types:\n",
      "  Protein: [1493]\n",
      "    Features: float32 vector, length 400\n",
      "    Edge types: Protein-Disease->Drug\n",
      "  Drug: [708]\n",
      "    Features: float32 vector, length 100\n",
      "    Edge types: Drug-Disease->Protein\n",
      "\n",
      " Edge types:\n",
      "    Drug-Disease->Protein: [1923]\n",
      "        Weights: all 1 (default)\n",
      "        Features: float32 vector, length 1\n"
     ]
    }
   ],
   "source": [
    "print(G.info())"
   ]
  },
  {
   "cell_type": "code",
   "execution_count": 6,
   "metadata": {
    "colab": {
     "base_uri": "https://localhost:8080/"
    },
    "id": "eSes1cVCQTar",
    "outputId": "ab7ebfe0-b98a-46dd-a100-51a696e1d934"
   },
   "outputs": [
    {
     "name": "stdout",
     "output_type": "stream",
     "text": [
      "Network has 1923 edges of type Disease\n",
      "Network has 1923 edges of type Disease\n",
      "** Sampled 384 positive and 384 negative edges. **\n",
      "StellarGraph: Undirected multigraph\n",
      " Nodes: 2201, Edges: 1539\n",
      "\n",
      " Node types:\n",
      "  Protein: [1493]\n",
      "    Features: float32 vector, length 400\n",
      "    Edge types: Protein-Disease->Drug\n",
      "  Drug: [708]\n",
      "    Features: float32 vector, length 100\n",
      "    Edge types: Drug-Disease->Protein\n",
      "\n",
      " Edge types:\n",
      "    Drug-Disease->Protein: [1539]\n",
      "        Weights: all 1 (default)\n",
      "        Features: none\n"
     ]
    }
   ],
   "source": [
    "from stellargraph.data import EdgeSplitter\n",
    "\n",
    "# Define an edge splitter on the original graph:\n",
    "edge_splitter_test = EdgeSplitter(G)\n",
    "\n",
    "# Randomly sample a fraction p=0.1 of all positive links, and same number of negative links, from graph, and obtain the\n",
    "# reduced graph graph_test with the sampled links removed:\n",
    "graph_test, examples_test, labels_test = edge_splitter_test.train_test_split(\n",
    "    p=0.2, method=\"global\", edge_label=\"Disease\"\n",
    ")\n",
    "\n",
    "print(graph_test.info())"
   ]
  },
  {
   "cell_type": "code",
   "execution_count": 7,
   "metadata": {
    "colab": {
     "base_uri": "https://localhost:8080/"
    },
    "id": "82aYXG1fUnHE",
    "outputId": "6effe6f4-34b1-4050-b282-8f0a9e88b316"
   },
   "outputs": [
    {
     "name": "stdout",
     "output_type": "stream",
     "text": [
      "Network has 1539 edges of type Disease\n",
      "Network has 1539 edges of type Disease\n",
      "** Sampled 307 positive and 307 negative edges. **\n",
      "StellarGraph: Undirected multigraph\n",
      " Nodes: 2201, Edges: 1232\n",
      "\n",
      " Node types:\n",
      "  Protein: [1493]\n",
      "    Features: float32 vector, length 400\n",
      "    Edge types: Protein-Disease->Drug\n",
      "  Drug: [708]\n",
      "    Features: float32 vector, length 100\n",
      "    Edge types: Drug-Disease->Protein\n",
      "\n",
      " Edge types:\n",
      "    Drug-Disease->Protein: [1232]\n",
      "        Weights: all 1 (default)\n",
      "        Features: none\n"
     ]
    }
   ],
   "source": [
    "from sklearn.model_selection import train_test_split\n",
    "\n",
    "# Do the same process to compute a training subset from within the test graph\n",
    "edge_splitter_train = EdgeSplitter(graph_test, G)\n",
    "graph_train, examples, labels = edge_splitter_train.train_test_split(\n",
    "    p=0.2, method=\"global\", edge_label=\"Disease\"\n",
    ")\n",
    "(\n",
    "    edges_train,\n",
    "    edges_test,\n",
    "    labels_train,\n",
    "    labels_test,\n",
    ") = train_test_split(examples, labels, train_size=0.8, test_size=0.2)\n",
    "\n",
    "print(graph_train.info())"
   ]
  },
  {
   "cell_type": "code",
   "execution_count": 8,
   "metadata": {
    "id": "x5CwtkGgUx8a"
   },
   "outputs": [],
   "source": [
    "edgelist_train = list(edges_train)\n",
    "edgelist_test = list(edges_test)"
   ]
  },
  {
   "cell_type": "code",
   "execution_count": 9,
   "metadata": {
    "id": "Cy5QMKLKQTa8",
    "tags": [
     "parameters"
    ]
   },
   "outputs": [],
   "source": [
    "batch_size = 20\n",
    "epochs = 50"
   ]
  },
  {
   "cell_type": "code",
   "execution_count": 10,
   "metadata": {
    "id": "xRCweTXOQTbA"
   },
   "outputs": [],
   "source": [
    "num_samples = [8,4]"
   ]
  },
  {
   "cell_type": "code",
   "execution_count": 11,
   "metadata": {
    "id": "UsjuoDnxQTbC"
   },
   "outputs": [],
   "source": [
    "#Change the place of protein and drug if an error happend\n",
    "generator = HinSAGELinkGenerator(\n",
    "    G, batch_size, num_samples, head_node_types=[\"Protein\", \"Drug\"]\n",
    ")\n",
    "train_gen = generator.flow(edgelist_train, labels_train, shuffle=True)\n",
    "test_gen = generator.flow(edgelist_test, labels_test)"
   ]
  },
  {
   "cell_type": "code",
   "execution_count": 12,
   "metadata": {
    "id": "KefXm6OwQTbH"
   },
   "outputs": [],
   "source": [
    "hinsage_layer_sizes = [16, 16]\n",
    "assert len(hinsage_layer_sizes) == len(num_samples)\n",
    "\n",
    "hinsage = HinSAGE(\n",
    "    layer_sizes=hinsage_layer_sizes, generator=generator, bias=True, dropout=0.1,normalize='l2'\n",
    ")"
   ]
  },
  {
   "cell_type": "code",
   "execution_count": 13,
   "metadata": {
    "id": "-TUzNjfYQTbK"
   },
   "outputs": [],
   "source": [
    "x_inp, x_out = hinsage.in_out_tensors()"
   ]
  },
  {
   "cell_type": "code",
   "execution_count": 14,
   "metadata": {
    "colab": {
     "base_uri": "https://localhost:8080/"
    },
    "id": "1CJ8oKcwQTbO",
    "outputId": "376ae12a-e783-476e-84bc-a2945c3eb385"
   },
   "outputs": [
    {
     "name": "stdout",
     "output_type": "stream",
     "text": [
      "link_classification: using 'ip' method to combine node embeddings into edge embeddings\n"
     ]
    }
   ],
   "source": [
    "prediction = link_classification(output_dim=1, output_act=\"relu\", edge_embedding_method=\"ip\")(x_out)"
   ]
  },
  {
   "cell_type": "code",
   "execution_count": 15,
   "metadata": {
    "colab": {
     "base_uri": "https://localhost:8080/"
    },
    "id": "2o7j99DsQTbT",
    "outputId": "970d4311-4a4b-4e1c-f448-49d2983bd9d6"
   },
   "outputs": [],
   "source": [
    "model = keras.Model(inputs=x_inp, outputs=prediction)\n",
    "\n",
    "model.compile(\n",
    "    optimizer=keras.optimizers.Adam(learning_rate=1e-3),\n",
    "    loss=keras.losses.binary_crossentropy,\n",
    "    metrics=[keras.metrics.AUC(),keras.metrics.AUC(curve='PR')],\n",
    ")"
   ]
  },
  {
   "cell_type": "code",
   "execution_count": 16,
   "metadata": {
    "colab": {
     "base_uri": "https://localhost:8080/"
    },
    "id": "InKyyKKXVX6K",
    "outputId": "5fca5a76-f489-44f4-c89f-c0f8205593ad"
   },
   "outputs": [
    {
     "name": "stdout",
     "output_type": "stream",
     "text": [
      "Model: \"functional_1\"\n",
      "__________________________________________________________________________________________________\n",
      "Layer (type)                    Output Shape         Param #     Connected to                     \n",
      "==================================================================================================\n",
      "input_3 (InputLayer)            [(None, 8, 100)]     0                                            \n",
      "__________________________________________________________________________________________________\n",
      "input_5 (InputLayer)            [(None, 32, 400)]    0                                            \n",
      "__________________________________________________________________________________________________\n",
      "input_6 (InputLayer)            [(None, 32, 100)]    0                                            \n",
      "__________________________________________________________________________________________________\n",
      "input_1 (InputLayer)            [(None, 1, 400)]     0                                            \n",
      "__________________________________________________________________________________________________\n",
      "reshape (Reshape)               (None, 1, 8, 100)    0           input_3[0][0]                    \n",
      "__________________________________________________________________________________________________\n",
      "reshape_2 (Reshape)             (None, 8, 4, 400)    0           input_5[0][0]                    \n",
      "__________________________________________________________________________________________________\n",
      "input_4 (InputLayer)            [(None, 8, 400)]     0                                            \n",
      "__________________________________________________________________________________________________\n",
      "reshape_3 (Reshape)             (None, 8, 4, 100)    0           input_6[0][0]                    \n",
      "__________________________________________________________________________________________________\n",
      "dropout_1 (Dropout)             (None, 1, 400)       0           input_1[0][0]                    \n",
      "__________________________________________________________________________________________________\n",
      "dropout (Dropout)               (None, 1, 8, 100)    0           reshape[0][0]                    \n",
      "__________________________________________________________________________________________________\n",
      "dropout_5 (Dropout)             (None, 8, 100)       0           input_3[0][0]                    \n",
      "__________________________________________________________________________________________________\n",
      "dropout_4 (Dropout)             (None, 8, 4, 400)    0           reshape_2[0][0]                  \n",
      "__________________________________________________________________________________________________\n",
      "input_2 (InputLayer)            [(None, 1, 100)]     0                                            \n",
      "__________________________________________________________________________________________________\n",
      "reshape_1 (Reshape)             (None, 1, 8, 400)    0           input_4[0][0]                    \n",
      "__________________________________________________________________________________________________\n",
      "dropout_7 (Dropout)             (None, 8, 400)       0           input_4[0][0]                    \n",
      "__________________________________________________________________________________________________\n",
      "dropout_6 (Dropout)             (None, 8, 4, 100)    0           reshape_3[0][0]                  \n",
      "__________________________________________________________________________________________________\n",
      "mean_hin_aggregator (MeanHinAgg multiple             4016        dropout_1[0][0]                  \n",
      "                                                                 dropout[0][0]                    \n",
      "                                                                 dropout_7[0][0]                  \n",
      "                                                                 dropout_6[0][0]                  \n",
      "__________________________________________________________________________________________________\n",
      "mean_hin_aggregator_1 (MeanHinA multiple             4016        dropout_3[0][0]                  \n",
      "                                                                 dropout_2[0][0]                  \n",
      "                                                                 dropout_5[0][0]                  \n",
      "                                                                 dropout_4[0][0]                  \n",
      "__________________________________________________________________________________________________\n",
      "dropout_3 (Dropout)             (None, 1, 100)       0           input_2[0][0]                    \n",
      "__________________________________________________________________________________________________\n",
      "dropout_2 (Dropout)             (None, 1, 8, 400)    0           reshape_1[0][0]                  \n",
      "__________________________________________________________________________________________________\n",
      "reshape_4 (Reshape)             (None, 1, 8, 16)     0           mean_hin_aggregator_1[1][0]      \n",
      "__________________________________________________________________________________________________\n",
      "reshape_5 (Reshape)             (None, 1, 8, 16)     0           mean_hin_aggregator[1][0]        \n",
      "__________________________________________________________________________________________________\n",
      "dropout_9 (Dropout)             (None, 1, 16)        0           mean_hin_aggregator[0][0]        \n",
      "__________________________________________________________________________________________________\n",
      "dropout_8 (Dropout)             (None, 1, 8, 16)     0           reshape_4[0][0]                  \n",
      "__________________________________________________________________________________________________\n",
      "dropout_11 (Dropout)            (None, 1, 16)        0           mean_hin_aggregator_1[0][0]      \n",
      "__________________________________________________________________________________________________\n",
      "dropout_10 (Dropout)            (None, 1, 8, 16)     0           reshape_5[0][0]                  \n",
      "__________________________________________________________________________________________________\n",
      "mean_hin_aggregator_2 (MeanHinA (None, 1, 16)        272         dropout_9[0][0]                  \n",
      "                                                                 dropout_8[0][0]                  \n",
      "__________________________________________________________________________________________________\n",
      "mean_hin_aggregator_3 (MeanHinA (None, 1, 16)        272         dropout_11[0][0]                 \n",
      "                                                                 dropout_10[0][0]                 \n",
      "__________________________________________________________________________________________________\n",
      "reshape_6 (Reshape)             (None, 16)           0           mean_hin_aggregator_2[0][0]      \n",
      "__________________________________________________________________________________________________\n",
      "reshape_7 (Reshape)             (None, 16)           0           mean_hin_aggregator_3[0][0]      \n",
      "__________________________________________________________________________________________________\n",
      "lambda (Lambda)                 (None, 16)           0           reshape_6[0][0]                  \n",
      "                                                                 reshape_7[0][0]                  \n",
      "__________________________________________________________________________________________________\n",
      "link_embedding (LinkEmbedding)  (None, 1)            0           lambda[0][0]                     \n",
      "                                                                 lambda[1][0]                     \n",
      "__________________________________________________________________________________________________\n",
      "activation (Activation)         (None, 1)            0           link_embedding[0][0]             \n",
      "__________________________________________________________________________________________________\n",
      "reshape_8 (Reshape)             (None, 1)            0           activation[0][0]                 \n",
      "==================================================================================================\n",
      "Total params: 8,576\n",
      "Trainable params: 8,576\n",
      "Non-trainable params: 0\n",
      "__________________________________________________________________________________________________\n"
     ]
    }
   ],
   "source": [
    "model.summary()"
   ]
  },
  {
   "cell_type": "code",
   "execution_count": 17,
   "metadata": {
    "id": "UgLpl6feQTbX"
   },
   "outputs": [],
   "source": [
    "num_workers = 4"
   ]
  },
  {
   "cell_type": "code",
   "execution_count": 18,
   "metadata": {
    "colab": {
     "base_uri": "https://localhost:8080/"
    },
    "id": "KM9hpGfpVe-1",
    "outputId": "2f374485-8855-428a-a9b1-c3631d1946bf"
   },
   "outputs": [
    {
     "name": "stdout",
     "output_type": "stream",
     "text": [
      "7/7 [==============================] - 0s 12ms/step - loss: 5.4495 - auc: 0.3466 - auc_1: 0.3505\n",
      "Untrained model's Test Evaluation:\n",
      "\tloss: 5.4495\n",
      "\tauc: 0.3466\n",
      "\tauc_1: 0.3505\n"
     ]
    }
   ],
   "source": [
    "test_metrics = model.evaluate(\n",
    "    test_gen, verbose=1, use_multiprocessing=False, workers=num_workers\n",
    ")\n",
    "\n",
    "print(\"Untrained model's Test Evaluation:\")\n",
    "for name, val in zip(model.metrics_names, test_metrics):\n",
    "    print(\"\\t{}: {:0.4f}\".format(name, val))"
   ]
  },
  {
   "cell_type": "code",
   "execution_count": 19,
   "metadata": {
    "colab": {
     "base_uri": "https://localhost:8080/"
    },
    "id": "xfeXc8RYQTbc",
    "outputId": "7ee45d50-2267-4d35-daa3-3c7351254593"
   },
   "outputs": [
    {
     "name": "stdout",
     "output_type": "stream",
     "text": [
      "Epoch 1/50\n",
      "25/25 [==============================] - 0s 15ms/step - loss: 3.7217 - auc: 0.4097 - auc_1: 0.4409 - val_loss: 1.7420 - val_auc: 0.4628 - val_auc_1: 0.4123\n",
      "Epoch 2/50\n",
      "25/25 [==============================] - 0s 11ms/step - loss: 1.1038 - auc: 0.5174 - auc_1: 0.5157 - val_loss: 0.9996 - val_auc: 0.5468 - val_auc_1: 0.4755\n",
      "Epoch 3/50\n",
      "25/25 [==============================] - 0s 14ms/step - loss: 0.7894 - auc: 0.6296 - auc_1: 0.5939 - val_loss: 0.9244 - val_auc: 0.5840 - val_auc_1: 0.5084\n",
      "Epoch 4/50\n",
      "25/25 [==============================] - 0s 15ms/step - loss: 0.7164 - auc: 0.6435 - auc_1: 0.6211 - val_loss: 0.8194 - val_auc: 0.6381 - val_auc_1: 0.5622\n",
      "Epoch 5/50\n",
      "25/25 [==============================] - 0s 11ms/step - loss: 0.7546 - auc: 0.6767 - auc_1: 0.6743 - val_loss: 0.7518 - val_auc: 0.6931 - val_auc_1: 0.6020\n",
      "Epoch 6/50\n",
      "25/25 [==============================] - 0s 14ms/step - loss: 0.6309 - auc: 0.7432 - auc_1: 0.7379 - val_loss: 0.7115 - val_auc: 0.7439 - val_auc_1: 0.6835\n",
      "Epoch 7/50\n",
      "25/25 [==============================] - 0s 14ms/step - loss: 0.5982 - auc: 0.7879 - auc_1: 0.7856 - val_loss: 0.8372 - val_auc: 0.7244 - val_auc_1: 0.6350\n",
      "Epoch 8/50\n",
      "25/25 [==============================] - 0s 14ms/step - loss: 0.5837 - auc: 0.8137 - auc_1: 0.7947 - val_loss: 0.7055 - val_auc: 0.7537 - val_auc_1: 0.6889\n",
      "Epoch 9/50\n",
      "25/25 [==============================] - 0s 11ms/step - loss: 0.5158 - auc: 0.8584 - auc_1: 0.8380 - val_loss: 0.6722 - val_auc: 0.7921 - val_auc_1: 0.7182\n",
      "Epoch 10/50\n",
      "25/25 [==============================] - 0s 15ms/step - loss: 0.4842 - auc: 0.8771 - auc_1: 0.8613 - val_loss: 0.5563 - val_auc: 0.8032 - val_auc_1: 0.7022\n",
      "Epoch 11/50\n",
      "25/25 [==============================] - 0s 14ms/step - loss: 0.4652 - auc: 0.8964 - auc_1: 0.8747 - val_loss: 0.5308 - val_auc: 0.8254 - val_auc_1: 0.7639\n",
      "Epoch 12/50\n",
      "25/25 [==============================] - 0s 17ms/step - loss: 0.4491 - auc: 0.8933 - auc_1: 0.8641 - val_loss: 0.4937 - val_auc: 0.8509 - val_auc_1: 0.7672\n",
      "Epoch 13/50\n",
      "25/25 [==============================] - 0s 16ms/step - loss: 0.4350 - auc: 0.9028 - auc_1: 0.8872 - val_loss: 0.4832 - val_auc: 0.8501 - val_auc_1: 0.7459\n",
      "Epoch 14/50\n",
      "25/25 [==============================] - 0s 14ms/step - loss: 0.4011 - auc: 0.9251 - auc_1: 0.9163 - val_loss: 0.4595 - val_auc: 0.8661 - val_auc_1: 0.7784\n",
      "Epoch 15/50\n",
      "25/25 [==============================] - 0s 16ms/step - loss: 0.3890 - auc: 0.9261 - auc_1: 0.9120 - val_loss: 0.4469 - val_auc: 0.8686 - val_auc_1: 0.7704\n",
      "Epoch 16/50\n",
      "25/25 [==============================] - 0s 16ms/step - loss: 0.3891 - auc: 0.9274 - auc_1: 0.9098 - val_loss: 0.4445 - val_auc: 0.8659 - val_auc_1: 0.7694\n",
      "Epoch 17/50\n",
      "25/25 [==============================] - 0s 17ms/step - loss: 0.3627 - auc: 0.9356 - auc_1: 0.9247 - val_loss: 0.4349 - val_auc: 0.8699 - val_auc_1: 0.7620\n",
      "Epoch 18/50\n",
      "25/25 [==============================] - 0s 16ms/step - loss: 0.3457 - auc: 0.9470 - auc_1: 0.9406 - val_loss: 0.4116 - val_auc: 0.8818 - val_auc_1: 0.7859\n",
      "Epoch 19/50\n",
      "25/25 [==============================] - 0s 16ms/step - loss: 0.3362 - auc: 0.9529 - auc_1: 0.9462 - val_loss: 0.4240 - val_auc: 0.8683 - val_auc_1: 0.7663\n",
      "Epoch 20/50\n",
      "25/25 [==============================] - 0s 15ms/step - loss: 0.3361 - auc: 0.9463 - auc_1: 0.9318 - val_loss: 0.4081 - val_auc: 0.8867 - val_auc_1: 0.8061\n",
      "Epoch 21/50\n",
      "25/25 [==============================] - 0s 15ms/step - loss: 0.3210 - auc: 0.9492 - auc_1: 0.9417 - val_loss: 0.5298 - val_auc: 0.8643 - val_auc_1: 0.8002\n",
      "Epoch 22/50\n",
      "25/25 [==============================] - 0s 16ms/step - loss: 0.3110 - auc: 0.9600 - auc_1: 0.9559 - val_loss: 0.4066 - val_auc: 0.8753 - val_auc_1: 0.7799\n",
      "Epoch 23/50\n",
      "25/25 [==============================] - 0s 16ms/step - loss: 0.3043 - auc: 0.9610 - auc_1: 0.9606 - val_loss: 0.3918 - val_auc: 0.8866 - val_auc_1: 0.8109\n",
      "Epoch 24/50\n",
      "25/25 [==============================] - 0s 16ms/step - loss: 0.2896 - auc: 0.9660 - auc_1: 0.9614 - val_loss: 0.4114 - val_auc: 0.8707 - val_auc_1: 0.7645\n",
      "Epoch 25/50\n",
      "25/25 [==============================] - 0s 18ms/step - loss: 0.2822 - auc: 0.9699 - auc_1: 0.9688 - val_loss: 0.3886 - val_auc: 0.8853 - val_auc_1: 0.8243\n",
      "Epoch 26/50\n",
      "25/25 [==============================] - 0s 18ms/step - loss: 0.2753 - auc: 0.9640 - auc_1: 0.9536 - val_loss: 0.3877 - val_auc: 0.8849 - val_auc_1: 0.8402\n",
      "Epoch 27/50\n",
      "25/25 [==============================] - 0s 17ms/step - loss: 0.2737 - auc: 0.9714 - auc_1: 0.9656 - val_loss: 0.3803 - val_auc: 0.8922 - val_auc_1: 0.8599\n",
      "Epoch 28/50\n",
      "25/25 [==============================] - 0s 17ms/step - loss: 0.2618 - auc: 0.9742 - auc_1: 0.9680 - val_loss: 0.3973 - val_auc: 0.8750 - val_auc_1: 0.7917\n",
      "Epoch 29/50\n",
      "25/25 [==============================] - 1s 20ms/step - loss: 0.2693 - auc: 0.9686 - auc_1: 0.9574 - val_loss: 0.3892 - val_auc: 0.8821 - val_auc_1: 0.8178\n",
      "Epoch 30/50\n",
      "25/25 [==============================] - 0s 16ms/step - loss: 0.2648 - auc: 0.9687 - auc_1: 0.9569 - val_loss: 0.3788 - val_auc: 0.8909 - val_auc_1: 0.8430\n",
      "Epoch 31/50\n",
      "25/25 [==============================] - 0s 16ms/step - loss: 0.2490 - auc: 0.9747 - auc_1: 0.9612 - val_loss: 0.3774 - val_auc: 0.8881 - val_auc_1: 0.8079\n",
      "Epoch 32/50\n",
      "25/25 [==============================] - 0s 17ms/step - loss: 0.2456 - auc: 0.9808 - auc_1: 0.9790 - val_loss: 0.3904 - val_auc: 0.8793 - val_auc_1: 0.8144\n",
      "Epoch 33/50\n",
      "25/25 [==============================] - 0s 16ms/step - loss: 0.2345 - auc: 0.9848 - auc_1: 0.9844 - val_loss: 0.3905 - val_auc: 0.8818 - val_auc_1: 0.8199\n",
      "Epoch 34/50\n",
      "25/25 [==============================] - 0s 17ms/step - loss: 0.2370 - auc: 0.9810 - auc_1: 0.9769 - val_loss: 0.3918 - val_auc: 0.8833 - val_auc_1: 0.8068\n",
      "Epoch 35/50\n",
      "25/25 [==============================] - 0s 17ms/step - loss: 0.2395 - auc: 0.9811 - auc_1: 0.9806 - val_loss: 0.3803 - val_auc: 0.8903 - val_auc_1: 0.8244\n",
      "Epoch 36/50\n",
      "25/25 [==============================] - 0s 17ms/step - loss: 0.2316 - auc: 0.9787 - auc_1: 0.9745 - val_loss: 0.3872 - val_auc: 0.8839 - val_auc_1: 0.8333\n",
      "Epoch 37/50\n",
      "25/25 [==============================] - 0s 16ms/step - loss: 0.2151 - auc: 0.9910 - auc_1: 0.9911 - val_loss: 0.3791 - val_auc: 0.8845 - val_auc_1: 0.8264\n",
      "Epoch 38/50\n",
      "25/25 [==============================] - 0s 17ms/step - loss: 0.2175 - auc: 0.9840 - auc_1: 0.9814 - val_loss: 0.3832 - val_auc: 0.8886 - val_auc_1: 0.8448\n",
      "Epoch 39/50\n",
      "25/25 [==============================] - 0s 16ms/step - loss: 0.2214 - auc: 0.9834 - auc_1: 0.9822 - val_loss: 0.3755 - val_auc: 0.8938 - val_auc_1: 0.8422\n",
      "Epoch 40/50\n",
      "25/25 [==============================] - 0s 17ms/step - loss: 0.2063 - auc: 0.9893 - auc_1: 0.9884 - val_loss: 0.3798 - val_auc: 0.8891 - val_auc_1: 0.8212\n",
      "Epoch 41/50\n",
      "25/25 [==============================] - 0s 17ms/step - loss: 0.2080 - auc: 0.9896 - auc_1: 0.9898 - val_loss: 0.3728 - val_auc: 0.8923 - val_auc_1: 0.8445\n",
      "Epoch 42/50\n",
      "25/25 [==============================] - 0s 17ms/step - loss: 0.1985 - auc: 0.9909 - auc_1: 0.9910 - val_loss: 0.3700 - val_auc: 0.8973 - val_auc_1: 0.8597\n",
      "Epoch 43/50\n",
      "25/25 [==============================] - 0s 16ms/step - loss: 0.2063 - auc: 0.9862 - auc_1: 0.9842 - val_loss: 0.3729 - val_auc: 0.8966 - val_auc_1: 0.8423\n",
      "Epoch 44/50\n",
      "25/25 [==============================] - 0s 16ms/step - loss: 0.2032 - auc: 0.9849 - auc_1: 0.9814 - val_loss: 0.3632 - val_auc: 0.9055 - val_auc_1: 0.8527\n",
      "Epoch 45/50\n",
      "25/25 [==============================] - 0s 15ms/step - loss: 0.1951 - auc: 0.9891 - auc_1: 0.9851 - val_loss: 0.3693 - val_auc: 0.8942 - val_auc_1: 0.8504\n",
      "Epoch 46/50\n",
      "25/25 [==============================] - 0s 15ms/step - loss: 0.1880 - auc: 0.9914 - auc_1: 0.9898 - val_loss: 0.3679 - val_auc: 0.8978 - val_auc_1: 0.8620\n",
      "Epoch 47/50\n",
      "25/25 [==============================] - 0s 16ms/step - loss: 0.1952 - auc: 0.9907 - auc_1: 0.9905 - val_loss: 0.3751 - val_auc: 0.8930 - val_auc_1: 0.8542\n",
      "Epoch 48/50\n",
      "25/25 [==============================] - 0s 17ms/step - loss: 0.1871 - auc: 0.9906 - auc_1: 0.9833 - val_loss: 0.3744 - val_auc: 0.8906 - val_auc_1: 0.8243\n",
      "Epoch 49/50\n",
      "25/25 [==============================] - 0s 17ms/step - loss: 0.1795 - auc: 0.9939 - auc_1: 0.9925 - val_loss: 0.3760 - val_auc: 0.8923 - val_auc_1: 0.8423\n",
      "Epoch 50/50\n",
      "25/25 [==============================] - 0s 16ms/step - loss: 0.1866 - auc: 0.9900 - auc_1: 0.9841 - val_loss: 0.3766 - val_auc: 0.8934 - val_auc_1: 0.8478\n"
     ]
    }
   ],
   "source": [
    "history = model.fit(\n",
    "    train_gen,\n",
    "    validation_data=test_gen,\n",
    "    epochs=epochs,\n",
    "    verbose=1,\n",
    "    shuffle=False\n",
    ")\n"
   ]
  },
  {
   "cell_type": "code",
   "execution_count": 20,
   "metadata": {
    "colab": {
     "base_uri": "https://localhost:8080/",
     "height": 585
    },
    "id": "MxpaZv9XQTbf",
    "outputId": "173bdd30-1d3b-4df9-eeff-87fea7e546ae",
    "scrolled": true
   },
   "outputs": [
    {
     "data": {
      "image/png": "[encoded data removed]",
      "text/plain": [
       "<Figure size 700x1200 with 3 Axes>"
      ]
     },
     "metadata": {},
     "output_type": "display_data"
    }
   ],
   "source": [
    "sg.utils.plot_history(history)"
   ]
  },
  {
   "cell_type": "code",
   "execution_count": 21,
   "metadata": {
    "colab": {
     "base_uri": "https://localhost:8080/"
    },
    "id": "3BFboRRlQTbh",
    "outputId": "ea785e35-4415-4b82-b719-e02d0e1693ad"
   },
   "outputs": [
    {
     "name": "stdout",
     "output_type": "stream",
     "text": [
      "7/7 [==============================] - 0s 7ms/step - loss: 0.3825 - auc: 0.8890 - auc_1: 0.8330\n",
      "Test Evaluation:\n",
      "\tloss: 0.3825\n",
      "\tauc: 0.8890\n",
      "\tauc_1: 0.8330\n"
     ]
    }
   ],
   "source": [
    "test_metrics = model.evaluate(\n",
    "    test_gen, use_multiprocessing=False, workers=num_workers, verbose=1\n",
    ")\n",
    "\n",
    "print(\"Test Evaluation:\")\n",
    "for name, val in zip(model.metrics_names, test_metrics):\n",
    "    print(\"\\t{}: {:0.4f}\".format(name, val))"
   ]
  },
  {
   "cell_type": "code",
   "execution_count": 22,
   "metadata": {},
   "outputs": [
    {
     "name": "stdout",
     "output_type": "stream",
     "text": [
      " 1/25 [>.............................] - ETA: 0s - loss: 0.0563 - auc: 1.0000 - auc_1: 1.0000"
     ]
    },
    {
     "name": "stdout",
     "output_type": "stream",
     "text": [
      "25/25 [==============================] - 0s 11ms/step - loss: 0.1467 - auc: 0.9958 - auc_1: 0.9950\n",
      "7/7 [==============================] - 0s 8ms/step - loss: 0.3800 - auc: 0.8915 - auc_1: 0.8477\n",
      "\n",
      "Train Set Metrics of the trained model:\n",
      "\tloss: 0.1467\n",
      "\tauc: 0.9958\n",
      "\tauc_1: 0.9950\n",
      "\n",
      "Test Set Metrics of the trained model:\n",
      "\tloss: 0.3800\n",
      "\tauc: 0.8915\n",
      "\tauc_1: 0.8477\n"
     ]
    }
   ],
   "source": [
    "train_metrics = model.evaluate(train_gen)\n",
    "test_metrics = model.evaluate(test_gen)\n",
    "\n",
    "print(\"\\nTrain Set Metrics of the trained model:\")\n",
    "for name, val in zip(model.metrics_names, train_metrics):\n",
    "    print(\"\\t{}: {:0.4f}\".format(name, val))\n",
    "\n",
    "print(\"\\nTest Set Metrics of the trained model:\")\n",
    "for name, val in zip(model.metrics_names, test_metrics):\n",
    "    print(\"\\t{}: {:0.4f}\".format(name, val))"
   ]
  },
  {
   "cell_type": "code",
   "execution_count": 23,
   "metadata": {
    "colab": {
     "base_uri": "https://localhost:8080/"
    },
    "id": "iRkaSfIeVz-_",
    "outputId": "75456b29-fc63-4d45-bf7e-55b7446210f0",
    "scrolled": true
   },
   "outputs": [
    {
     "name": "stdout",
     "output_type": "stream",
     "text": [
      "Mean Baseline Test set metrics:\n",
      "\troot_mean_square_error =  0.49799651483296126\n",
      "\tmean_absolute_error =  0.49600105871999167\n",
      "\n",
      "Model Test set metrics:\n",
      "\troot_mean_square_error =  0.35256445139092135\n",
      "\tmean_absolute_error =  0.22556053189848496\n"
     ]
    }
   ],
   "source": [
    "y_true = labels_test\n",
    "# Predict the rankings using the model:\n",
    "y_pred = model.predict(test_gen)\n",
    "# Mean baseline rankings = mean movie ranking:\n",
    "y_pred_baseline = np.full_like(y_pred, np.mean(y_true))\n",
    "\n",
    "rmse = np.sqrt(mean_squared_error(y_true, y_pred_baseline))\n",
    "mae = mean_absolute_error(y_true, y_pred_baseline)\n",
    "print(\"Mean Baseline Test set metrics:\")\n",
    "print(\"\\troot_mean_square_error = \", rmse)\n",
    "print(\"\\tmean_absolute_error = \", mae)\n",
    "\n",
    "rmse = np.sqrt(mean_squared_error(y_true, y_pred))\n",
    "mae = mean_absolute_error(y_true, y_pred)\n",
    "print(\"\\nModel Test set metrics:\")\n",
    "print(\"\\troot_mean_square_error = \", rmse)\n",
    "print(\"\\tmean_absolute_error = \", mae)"
   ]
  }
 ],
 "metadata": {
  "colab": {
   "name": "graphsage-link-prediction.ipynb",
   "provenance": []
  },
  "file_extension": ".py",
  "kernelspec": {
   "display_name": "Python 3",
   "language": "python",
   "name": "python3"
  },
  "language_info": {
   "codemirror_mode": {
    "name": "ipython",
    "version": 3
   },
   "file_extension": ".py",
   "mimetype": "text/x-python",
   "name": "python",
   "nbconvert_exporter": "python",
   "pygments_lexer": "ipython3",
   "version": "3.7.16"
  },
  "mimetype": "text/x-python",
  "name": "python",
  "npconvert_exporter": "python",
  "pygments_lexer": "ipython3",
  "version": 3
 },
 "nbformat": 4,
 "nbformat_minor": 1
}
