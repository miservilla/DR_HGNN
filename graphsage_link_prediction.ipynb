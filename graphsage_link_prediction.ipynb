{
 "cells": [
  {
   "cell_type": "markdown",
   "metadata": {
    "id": "_q8b50ZwQTZm"
   },
   "source": [
    "# Link prediction with GraphSAGE"
   ]
  },
  {
   "cell_type": "code",
   "execution_count": 1,
   "metadata": {
    "id": "YU5okg2tQTaG"
   },
   "outputs": [],
   "source": [
    "import json\n",
    "import pandas as pd\n",
    "import numpy as np\n",
    "from sklearn import preprocessing, feature_extraction, model_selection\n",
    "from sklearn.metrics import mean_absolute_error, mean_squared_error\n",
    "\n",
    "import stellargraph as StellarGraph\n",
    "from stellargraph.mapper import HinSAGELinkGenerator\n",
    "from stellargraph.layer import HinSAGE, link_regression\n",
    "from tensorflow.keras import Model, optimizers, losses, metrics\n",
    "\n",
    "import multiprocessing\n",
    "from stellargraph import datasets\n",
    "from IPython.display import display, HTML\n",
    "import matplotlib.pyplot as plt\n",
    "%matplotlib inline\n",
    "import stellargraph as sg\n",
    "from stellargraph.data import EdgeSplitter\n",
    "from stellargraph.mapper import GraphSAGELinkGenerator ,HinSAGELinkGenerator\n",
    "from stellargraph.layer import GraphSAGE, HinSAGE, link_classification\n",
    "\n",
    "from tensorflow import keras\n",
    "from sklearn import preprocessing, feature_extraction, model_selection\n",
    "\n",
    "from stellargraph import globalvar\n",
    "from stellargraph import datasets\n",
    "from IPython.display import display, HTML\n",
    "%matplotlib inline"
   ]
  },
  {
   "cell_type": "code",
   "execution_count": 2,
   "metadata": {
    "id": "XGOFTbrqQizG"
   },
   "outputs": [],
   "source": [
    "Dr_emb = pd.read_csv('drug_vector_d100.csv')\n",
    "Dr_name = pd.read_csv('drugn.csv')\n",
    "Dr_emb.index=Dr_name['id']\n",
    "Pro_emb = pd.read_csv('protein_vector_d400.csv')\n",
    "Pro_name = pd.read_csv('protn.csv')\n",
    "Pro_emb.index=Pro_name['id']"
   ]
  },
  {
   "cell_type": "code",
   "execution_count": 3,
   "metadata": {
    "colab": {
     "base_uri": "https://localhost:8080/",
     "height": 424
    },
    "id": "qNB7lHQiQlDN",
    "outputId": "e73c7b5b-a3eb-4435-df2f-b60c6b9519e7"
   },
   "outputs": [
    {
     "data": {
      "text/html": [
       "<div>\n",
       "<style scoped>\n",
       "    .dataframe tbody tr th:only-of-type {\n",
       "        vertical-align: middle;\n",
       "    }\n",
       "\n",
       "    .dataframe tbody tr th {\n",
       "        vertical-align: top;\n",
       "    }\n",
       "\n",
       "    .dataframe thead th {\n",
       "        text-align: right;\n",
       "    }\n",
       "</style>\n",
       "<table border=\"1\" class=\"dataframe\">\n",
       "  <thead>\n",
       "    <tr style=\"text-align: right;\">\n",
       "      <th></th>\n",
       "      <th>source</th>\n",
       "      <th>target</th>\n",
       "      <th>orientation</th>\n",
       "    </tr>\n",
       "  </thead>\n",
       "  <tbody>\n",
       "    <tr>\n",
       "      <th>0</th>\n",
       "      <td>r1</td>\n",
       "      <td>p113</td>\n",
       "      <td>430</td>\n",
       "    </tr>\n",
       "    <tr>\n",
       "      <th>1</th>\n",
       "      <td>r1</td>\n",
       "      <td>p76</td>\n",
       "      <td>634</td>\n",
       "    </tr>\n",
       "    <tr>\n",
       "      <th>2</th>\n",
       "      <td>r10</td>\n",
       "      <td>p367</td>\n",
       "      <td>706</td>\n",
       "    </tr>\n",
       "    <tr>\n",
       "      <th>3</th>\n",
       "      <td>r10</td>\n",
       "      <td>p65</td>\n",
       "      <td>706</td>\n",
       "    </tr>\n",
       "    <tr>\n",
       "      <th>4</th>\n",
       "      <td>r100</td>\n",
       "      <td>p146</td>\n",
       "      <td>156</td>\n",
       "    </tr>\n",
       "    <tr>\n",
       "      <th>...</th>\n",
       "      <td>...</td>\n",
       "      <td>...</td>\n",
       "      <td>...</td>\n",
       "    </tr>\n",
       "    <tr>\n",
       "      <th>1918</th>\n",
       "      <td>r98</td>\n",
       "      <td>p11</td>\n",
       "      <td>80</td>\n",
       "    </tr>\n",
       "    <tr>\n",
       "      <th>1919</th>\n",
       "      <td>r98</td>\n",
       "      <td>p120</td>\n",
       "      <td>80</td>\n",
       "    </tr>\n",
       "    <tr>\n",
       "      <th>1920</th>\n",
       "      <td>r98</td>\n",
       "      <td>p151</td>\n",
       "      <td>80</td>\n",
       "    </tr>\n",
       "    <tr>\n",
       "      <th>1921</th>\n",
       "      <td>r98</td>\n",
       "      <td>p575</td>\n",
       "      <td>130</td>\n",
       "    </tr>\n",
       "    <tr>\n",
       "      <th>1922</th>\n",
       "      <td>r98</td>\n",
       "      <td>p815</td>\n",
       "      <td>706</td>\n",
       "    </tr>\n",
       "  </tbody>\n",
       "</table>\n",
       "<p>1923 rows × 3 columns</p>\n",
       "</div>"
      ],
      "text/plain": [
       "     source target  orientation\n",
       "0        r1   p113          430\n",
       "1        r1    p76          634\n",
       "2       r10   p367          706\n",
       "3       r10    p65          706\n",
       "4      r100   p146          156\n",
       "...     ...    ...          ...\n",
       "1918    r98    p11           80\n",
       "1919    r98   p120           80\n",
       "1920    r98   p151           80\n",
       "1921    r98   p575          130\n",
       "1922    r98   p815          706\n",
       "\n",
       "[1923 rows x 3 columns]"
      ]
     },
     "execution_count": 3,
     "metadata": {},
     "output_type": "execute_result"
    }
   ],
   "source": [
    "DTI=pd.read_csv('dtinew.csv')\n",
    "DTI\n",
    "#DTI.dropna()"
   ]
  },
  {
   "cell_type": "code",
   "execution_count": 4,
   "metadata": {
    "id": "ldqNKE0aQl3k"
   },
   "outputs": [],
   "source": [
    "from stellargraph import StellarGraph\n",
    "G= StellarGraph({\"Drug\": Dr_emb, \"Protein\": Pro_emb},{'Disease':DTI})"
   ]
  },
  {
   "cell_type": "code",
   "execution_count": 5,
   "metadata": {
    "colab": {
     "base_uri": "https://localhost:8080/"
    },
    "id": "FhjemTvlQTaa",
    "outputId": "1dcdad03-ba89-4cd8-b676-87e2d1baa8c9"
   },
   "outputs": [
    {
     "name": "stdout",
     "output_type": "stream",
     "text": [
      "StellarGraph: Undirected multigraph\n",
      " Nodes: 2201, Edges: 1923\n",
      "\n",
      " Node types:\n",
      "  Protein: [1493]\n",
      "    Features: float32 vector, length 400\n",
      "    Edge types: Protein-Disease->Drug\n",
      "  Drug: [708]\n",
      "    Features: float32 vector, length 100\n",
      "    Edge types: Drug-Disease->Protein\n",
      "\n",
      " Edge types:\n",
      "    Drug-Disease->Protein: [1923]\n",
      "        Weights: all 1 (default)\n",
      "        Features: float32 vector, length 1\n"
     ]
    }
   ],
   "source": [
    "print(G.info())"
   ]
  },
  {
   "cell_type": "code",
   "execution_count": 6,
   "metadata": {
    "colab": {
     "base_uri": "https://localhost:8080/"
    },
    "id": "eSes1cVCQTar",
    "outputId": "ab7ebfe0-b98a-46dd-a100-51a696e1d934"
   },
   "outputs": [
    {
     "name": "stdout",
     "output_type": "stream",
     "text": [
      "Network has 1923 edges of type Disease\n",
      "Network has 1923 edges of type Disease\n",
      "** Sampled 384 positive and 384 negative edges. **\n",
      "StellarGraph: Undirected multigraph\n",
      " Nodes: 2201, Edges: 1539\n",
      "\n",
      " Node types:\n",
      "  Protein: [1493]\n",
      "    Features: float32 vector, length 400\n",
      "    Edge types: Protein-Disease->Drug\n",
      "  Drug: [708]\n",
      "    Features: float32 vector, length 100\n",
      "    Edge types: Drug-Disease->Protein\n",
      "\n",
      " Edge types:\n",
      "    Drug-Disease->Protein: [1539]\n",
      "        Weights: all 1 (default)\n",
      "        Features: none\n"
     ]
    }
   ],
   "source": [
    "from stellargraph.data import EdgeSplitter\n",
    "\n",
    "# Define an edge splitter on the original graph:\n",
    "edge_splitter_test = EdgeSplitter(G)\n",
    "\n",
    "# Randomly sample a fraction p=0.1 of all positive links, and same number of negative links, from graph, and obtain the\n",
    "# reduced graph graph_test with the sampled links removed:\n",
    "graph_test, examples_test, labels_test = edge_splitter_test.train_test_split(\n",
    "    p=0.2, method=\"global\", edge_label=\"Disease\"\n",
    ")\n",
    "\n",
    "print(graph_test.info())"
   ]
  },
  {
   "cell_type": "code",
   "execution_count": 7,
   "metadata": {
    "colab": {
     "base_uri": "https://localhost:8080/"
    },
    "id": "82aYXG1fUnHE",
    "outputId": "6effe6f4-34b1-4050-b282-8f0a9e88b316"
   },
   "outputs": [
    {
     "name": "stdout",
     "output_type": "stream",
     "text": [
      "Network has 1539 edges of type Disease\n",
      "Network has 1539 edges of type Disease\n",
      "** Sampled 307 positive and 307 negative edges. **\n",
      "StellarGraph: Undirected multigraph\n",
      " Nodes: 2201, Edges: 1232\n",
      "\n",
      " Node types:\n",
      "  Protein: [1493]\n",
      "    Features: float32 vector, length 400\n",
      "    Edge types: Protein-Disease->Drug\n",
      "  Drug: [708]\n",
      "    Features: float32 vector, length 100\n",
      "    Edge types: Drug-Disease->Protein\n",
      "\n",
      " Edge types:\n",
      "    Drug-Disease->Protein: [1232]\n",
      "        Weights: all 1 (default)\n",
      "        Features: none\n"
     ]
    }
   ],
   "source": [
    "from sklearn.model_selection import train_test_split\n",
    "\n",
    "# Do the same process to compute a training subset from within the test graph\n",
    "edge_splitter_train = EdgeSplitter(graph_test, G)\n",
    "graph_train, examples, labels = edge_splitter_train.train_test_split(\n",
    "    p=0.2, method=\"global\", edge_label=\"Disease\"\n",
    ")\n",
    "(\n",
    "    edges_train,\n",
    "    edges_test,\n",
    "    labels_train,\n",
    "    labels_test,\n",
    ") = train_test_split(examples, labels, train_size=0.8, test_size=0.2)\n",
    "\n",
    "print(graph_train.info())"
   ]
  },
  {
   "cell_type": "code",
   "execution_count": 8,
   "metadata": {
    "id": "x5CwtkGgUx8a"
   },
   "outputs": [],
   "source": [
    "edgelist_train = list(edges_train)\n",
    "edgelist_test = list(edges_test)"
   ]
  },
  {
   "cell_type": "code",
   "execution_count": 9,
   "metadata": {
    "id": "Cy5QMKLKQTa8",
    "tags": [
     "parameters"
    ]
   },
   "outputs": [],
   "source": [
    "batch_size = 20\n",
    "epochs = 50"
   ]
  },
  {
   "cell_type": "code",
   "execution_count": 10,
   "metadata": {
    "id": "xRCweTXOQTbA"
   },
   "outputs": [],
   "source": [
    "num_samples = [8,4]"
   ]
  },
  {
   "cell_type": "code",
   "execution_count": 12,
   "metadata": {
    "id": "UsjuoDnxQTbC"
   },
   "outputs": [],
   "source": [
    "#Change the place of protein and drug if an error happend\n",
    "generator = HinSAGELinkGenerator(\n",
    "    G, batch_size, num_samples, head_node_types=[\"Protein\", \"Drug\"]\n",
    ")\n",
    "train_gen = generator.flow(edgelist_train, labels_train, shuffle=True)\n",
    "test_gen = generator.flow(edgelist_test, labels_test)"
   ]
  },
  {
   "cell_type": "code",
   "execution_count": 13,
   "metadata": {
    "id": "KefXm6OwQTbH"
   },
   "outputs": [],
   "source": [
    "hinsage_layer_sizes = [16, 16]\n",
    "assert len(hinsage_layer_sizes) == len(num_samples)\n",
    "\n",
    "hinsage = HinSAGE(\n",
    "    layer_sizes=hinsage_layer_sizes, generator=generator, bias=True, dropout=0.1,normalize='l2'\n",
    ")"
   ]
  },
  {
   "cell_type": "code",
   "execution_count": 14,
   "metadata": {
    "id": "-TUzNjfYQTbK"
   },
   "outputs": [],
   "source": [
    "x_inp, x_out = hinsage.in_out_tensors()"
   ]
  },
  {
   "cell_type": "code",
   "execution_count": 15,
   "metadata": {
    "colab": {
     "base_uri": "https://localhost:8080/"
    },
    "id": "1CJ8oKcwQTbO",
    "outputId": "376ae12a-e783-476e-84bc-a2945c3eb385"
   },
   "outputs": [
    {
     "name": "stdout",
     "output_type": "stream",
     "text": [
      "link_classification: using 'ip' method to combine node embeddings into edge embeddings\n"
     ]
    }
   ],
   "source": [
    "prediction = link_classification(output_dim=1, output_act=\"relu\", edge_embedding_method=\"ip\")(x_out)"
   ]
  },
  {
   "cell_type": "code",
   "execution_count": 16,
   "metadata": {
    "colab": {
     "base_uri": "https://localhost:8080/"
    },
    "id": "2o7j99DsQTbT",
    "outputId": "970d4311-4a4b-4e1c-f448-49d2983bd9d6"
   },
   "outputs": [],
   "source": [
    "model = keras.Model(inputs=x_inp, outputs=prediction)\n",
    "\n",
    "model.compile(\n",
    "    optimizer=keras.optimizers.Adam(learning_rate=1e-3),\n",
    "    loss=keras.losses.binary_crossentropy,\n",
    "    metrics=[keras.metrics.AUC(),keras.metrics.AUC(curve='PR')],\n",
    ")"
   ]
  },
  {
   "cell_type": "code",
   "execution_count": 17,
   "metadata": {
    "colab": {
     "base_uri": "https://localhost:8080/"
    },
    "id": "InKyyKKXVX6K",
    "outputId": "5fca5a76-f489-44f4-c89f-c0f8205593ad"
   },
   "outputs": [
    {
     "name": "stdout",
     "output_type": "stream",
     "text": [
      "Model: \"model\"\n",
      "__________________________________________________________________________________________________\n",
      "Layer (type)                    Output Shape         Param #     Connected to                     \n",
      "==================================================================================================\n",
      "input_3 (InputLayer)            [(None, 8, 100)]     0                                            \n",
      "__________________________________________________________________________________________________\n",
      "input_5 (InputLayer)            [(None, 32, 400)]    0                                            \n",
      "__________________________________________________________________________________________________\n",
      "input_6 (InputLayer)            [(None, 32, 100)]    0                                            \n",
      "__________________________________________________________________________________________________\n",
      "input_1 (InputLayer)            [(None, 1, 400)]     0                                            \n",
      "__________________________________________________________________________________________________\n",
      "reshape (Reshape)               (None, 1, 8, 100)    0           input_3[0][0]                    \n",
      "__________________________________________________________________________________________________\n",
      "reshape_2 (Reshape)             (None, 8, 4, 400)    0           input_5[0][0]                    \n",
      "__________________________________________________________________________________________________\n",
      "input_4 (InputLayer)            [(None, 8, 400)]     0                                            \n",
      "__________________________________________________________________________________________________\n",
      "reshape_3 (Reshape)             (None, 8, 4, 100)    0           input_6[0][0]                    \n",
      "__________________________________________________________________________________________________\n",
      "dropout_1 (Dropout)             (None, 1, 400)       0           input_1[0][0]                    \n",
      "__________________________________________________________________________________________________\n",
      "dropout (Dropout)               (None, 1, 8, 100)    0           reshape[0][0]                    \n",
      "__________________________________________________________________________________________________\n",
      "dropout_5 (Dropout)             (None, 8, 100)       0           input_3[0][0]                    \n",
      "__________________________________________________________________________________________________\n",
      "dropout_4 (Dropout)             (None, 8, 4, 400)    0           reshape_2[0][0]                  \n",
      "__________________________________________________________________________________________________\n",
      "input_2 (InputLayer)            [(None, 1, 100)]     0                                            \n",
      "__________________________________________________________________________________________________\n",
      "reshape_1 (Reshape)             (None, 1, 8, 400)    0           input_4[0][0]                    \n",
      "__________________________________________________________________________________________________\n",
      "dropout_7 (Dropout)             (None, 8, 400)       0           input_4[0][0]                    \n",
      "__________________________________________________________________________________________________\n",
      "dropout_6 (Dropout)             (None, 8, 4, 100)    0           reshape_3[0][0]                  \n",
      "__________________________________________________________________________________________________\n",
      "mean_hin_aggregator (MeanHinAgg multiple             4016        dropout_1[0][0]                  \n",
      "                                                                 dropout[0][0]                    \n",
      "                                                                 dropout_7[0][0]                  \n",
      "                                                                 dropout_6[0][0]                  \n",
      "__________________________________________________________________________________________________\n",
      "mean_hin_aggregator_1 (MeanHinA multiple             4016        dropout_3[0][0]                  \n",
      "                                                                 dropout_2[0][0]                  \n",
      "                                                                 dropout_5[0][0]                  \n",
      "                                                                 dropout_4[0][0]                  \n",
      "__________________________________________________________________________________________________\n",
      "dropout_3 (Dropout)             (None, 1, 100)       0           input_2[0][0]                    \n",
      "__________________________________________________________________________________________________\n",
      "dropout_2 (Dropout)             (None, 1, 8, 400)    0           reshape_1[0][0]                  \n",
      "__________________________________________________________________________________________________\n",
      "reshape_4 (Reshape)             (None, 1, 8, 16)     0           mean_hin_aggregator_1[1][0]      \n",
      "__________________________________________________________________________________________________\n",
      "reshape_5 (Reshape)             (None, 1, 8, 16)     0           mean_hin_aggregator[1][0]        \n",
      "__________________________________________________________________________________________________\n",
      "dropout_9 (Dropout)             (None, 1, 16)        0           mean_hin_aggregator[0][0]        \n",
      "__________________________________________________________________________________________________\n",
      "dropout_8 (Dropout)             (None, 1, 8, 16)     0           reshape_4[0][0]                  \n",
      "__________________________________________________________________________________________________\n",
      "dropout_11 (Dropout)            (None, 1, 16)        0           mean_hin_aggregator_1[0][0]      \n",
      "__________________________________________________________________________________________________\n",
      "dropout_10 (Dropout)            (None, 1, 8, 16)     0           reshape_5[0][0]                  \n",
      "__________________________________________________________________________________________________\n",
      "mean_hin_aggregator_2 (MeanHinA (None, 1, 16)        272         dropout_9[0][0]                  \n",
      "                                                                 dropout_8[0][0]                  \n",
      "__________________________________________________________________________________________________\n",
      "mean_hin_aggregator_3 (MeanHinA (None, 1, 16)        272         dropout_11[0][0]                 \n",
      "                                                                 dropout_10[0][0]                 \n",
      "__________________________________________________________________________________________________\n",
      "reshape_6 (Reshape)             (None, 16)           0           mean_hin_aggregator_2[0][0]      \n",
      "__________________________________________________________________________________________________\n",
      "reshape_7 (Reshape)             (None, 16)           0           mean_hin_aggregator_3[0][0]      \n",
      "__________________________________________________________________________________________________\n",
      "lambda (Lambda)                 (None, 16)           0           reshape_6[0][0]                  \n",
      "                                                                 reshape_7[0][0]                  \n",
      "__________________________________________________________________________________________________\n",
      "link_embedding (LinkEmbedding)  (None, 1)            0           lambda[0][0]                     \n",
      "                                                                 lambda[1][0]                     \n",
      "__________________________________________________________________________________________________\n",
      "activation (Activation)         (None, 1)            0           link_embedding[0][0]             \n",
      "__________________________________________________________________________________________________\n",
      "reshape_8 (Reshape)             (None, 1)            0           activation[0][0]                 \n",
      "==================================================================================================\n",
      "Total params: 8,576\n",
      "Trainable params: 8,576\n",
      "Non-trainable params: 0\n",
      "__________________________________________________________________________________________________\n"
     ]
    }
   ],
   "source": [
    "model.summary()"
   ]
  },
  {
   "cell_type": "code",
   "execution_count": 18,
   "metadata": {
    "id": "UgLpl6feQTbX"
   },
   "outputs": [],
   "source": [
    "num_workers = 4"
   ]
  },
  {
   "cell_type": "code",
   "execution_count": 19,
   "metadata": {
    "colab": {
     "base_uri": "https://localhost:8080/"
    },
    "id": "KM9hpGfpVe-1",
    "outputId": "2f374485-8855-428a-a9b1-c3631d1946bf"
   },
   "outputs": [
    {
     "name": "stdout",
     "output_type": "stream",
     "text": [
      "7/7 [==============================] - 1s 18ms/step - loss: 3.4317 - auc: 0.4317 - auc_1: 0.4216\n",
      "Untrained model's Test Evaluation:\n",
      "\tloss: 3.4317\n",
      "\tauc: 0.4317\n",
      "\tauc_1: 0.4216\n"
     ]
    }
   ],
   "source": [
    "test_metrics = model.evaluate(\n",
    "    test_gen, verbose=1, use_multiprocessing=False, workers=num_workers\n",
    ")\n",
    "\n",
    "print(\"Untrained model's Test Evaluation:\")\n",
    "for name, val in zip(model.metrics_names, test_metrics):\n",
    "    print(\"\\t{}: {:0.4f}\".format(name, val))"
   ]
  },
  {
   "cell_type": "code",
   "execution_count": 20,
   "metadata": {
    "colab": {
     "base_uri": "https://localhost:8080/"
    },
    "id": "xfeXc8RYQTbc",
    "outputId": "7ee45d50-2267-4d35-daa3-3c7351254593"
   },
   "outputs": [
    {
     "name": "stdout",
     "output_type": "stream",
     "text": [
      "Epoch 1/50\n",
      "25/25 [==============================] - 4s 39ms/step - loss: 2.8081 - auc: 0.4466 - auc_1: 0.4547 - val_loss: 1.2230 - val_auc: 0.6161 - val_auc_1: 0.6005\n",
      "Epoch 2/50\n",
      "25/25 [==============================] - 1s 32ms/step - loss: 1.1900 - auc: 0.6265 - auc_1: 0.6140 - val_loss: 0.8624 - val_auc: 0.6902 - val_auc_1: 0.7002\n",
      "Epoch 3/50\n",
      "25/25 [==============================] - 1s 34ms/step - loss: 0.8036 - auc: 0.7103 - auc_1: 0.7091 - val_loss: 0.7238 - val_auc: 0.7337 - val_auc_1: 0.7307\n",
      "Epoch 4/50\n",
      "25/25 [==============================] - 1s 33ms/step - loss: 0.6747 - auc: 0.7764 - auc_1: 0.7582 - val_loss: 0.5637 - val_auc: 0.7753 - val_auc_1: 0.7609\n",
      "Epoch 5/50\n",
      "25/25 [==============================] - 1s 34ms/step - loss: 0.5154 - auc: 0.8363 - auc_1: 0.8143 - val_loss: 0.5245 - val_auc: 0.8241 - val_auc_1: 0.8072\n",
      "Epoch 6/50\n",
      "25/25 [==============================] - 1s 33ms/step - loss: 0.5001 - auc: 0.8789 - auc_1: 0.8712 - val_loss: 0.4922 - val_auc: 0.8505 - val_auc_1: 0.8051\n",
      "Epoch 7/50\n",
      "25/25 [==============================] - 1s 34ms/step - loss: 0.4443 - auc: 0.9065 - auc_1: 0.8909 - val_loss: 0.4455 - val_auc: 0.8917 - val_auc_1: 0.8593\n",
      "Epoch 8/50\n",
      "25/25 [==============================] - 1s 34ms/step - loss: 0.4033 - auc: 0.9291 - auc_1: 0.9209 - val_loss: 0.4351 - val_auc: 0.8893 - val_auc_1: 0.8558\n",
      "Epoch 9/50\n",
      "25/25 [==============================] - 1s 34ms/step - loss: 0.3761 - auc: 0.9394 - auc_1: 0.9319 - val_loss: 0.4113 - val_auc: 0.9015 - val_auc_1: 0.8611\n",
      "Epoch 10/50\n",
      "25/25 [==============================] - 1s 34ms/step - loss: 0.3612 - auc: 0.9526 - auc_1: 0.9469 - val_loss: 0.3907 - val_auc: 0.9079 - val_auc_1: 0.8752\n",
      "Epoch 11/50\n",
      "25/25 [==============================] - 1s 33ms/step - loss: 0.3403 - auc: 0.9523 - auc_1: 0.9444 - val_loss: 0.3760 - val_auc: 0.9110 - val_auc_1: 0.8865\n",
      "Epoch 12/50\n",
      "25/25 [==============================] - 1s 33ms/step - loss: 0.3265 - auc: 0.9473 - auc_1: 0.9359 - val_loss: 0.3620 - val_auc: 0.9189 - val_auc_1: 0.8941\n",
      "Epoch 13/50\n",
      "25/25 [==============================] - 1s 34ms/step - loss: 0.3007 - auc: 0.9642 - auc_1: 0.9584 - val_loss: 0.3491 - val_auc: 0.9242 - val_auc_1: 0.8972\n",
      "Epoch 14/50\n",
      "25/25 [==============================] - 1s 33ms/step - loss: 0.2829 - auc: 0.9668 - auc_1: 0.9607 - val_loss: 0.3553 - val_auc: 0.9173 - val_auc_1: 0.8625\n",
      "Epoch 15/50\n",
      "25/25 [==============================] - 1s 33ms/step - loss: 0.2706 - auc: 0.9712 - auc_1: 0.9666 - val_loss: 0.3374 - val_auc: 0.9237 - val_auc_1: 0.8923\n",
      "Epoch 16/50\n",
      "25/25 [==============================] - 1s 37ms/step - loss: 0.2606 - auc: 0.9721 - auc_1: 0.9694 - val_loss: 0.3242 - val_auc: 0.9291 - val_auc_1: 0.9026\n",
      "Epoch 17/50\n",
      "25/25 [==============================] - 1s 34ms/step - loss: 0.2557 - auc: 0.9732 - auc_1: 0.9680 - val_loss: 0.3230 - val_auc: 0.9296 - val_auc_1: 0.9158\n",
      "Epoch 18/50\n",
      "25/25 [==============================] - 1s 33ms/step - loss: 0.2423 - auc: 0.9796 - auc_1: 0.9780 - val_loss: 0.3251 - val_auc: 0.9224 - val_auc_1: 0.8771\n",
      "Epoch 19/50\n",
      "25/25 [==============================] - 1s 34ms/step - loss: 0.2262 - auc: 0.9845 - auc_1: 0.9838 - val_loss: 0.3100 - val_auc: 0.9353 - val_auc_1: 0.9208\n",
      "Epoch 20/50\n",
      "25/25 [==============================] - 1s 34ms/step - loss: 0.2284 - auc: 0.9834 - auc_1: 0.9830 - val_loss: 0.3164 - val_auc: 0.9249 - val_auc_1: 0.9001\n",
      "Epoch 21/50\n",
      "25/25 [==============================] - 1s 34ms/step - loss: 0.2098 - auc: 0.9874 - auc_1: 0.9871 - val_loss: 0.3011 - val_auc: 0.9317 - val_auc_1: 0.9064\n",
      "Epoch 22/50\n",
      "25/25 [==============================] - 1s 32ms/step - loss: 0.2044 - auc: 0.9883 - auc_1: 0.9873 - val_loss: 0.2928 - val_auc: 0.9381 - val_auc_1: 0.9229\n",
      "Epoch 23/50\n",
      "25/25 [==============================] - 1s 34ms/step - loss: 0.2000 - auc: 0.9905 - auc_1: 0.9897 - val_loss: 0.2912 - val_auc: 0.9413 - val_auc_1: 0.9241\n",
      "Epoch 24/50\n",
      "25/25 [==============================] - 1s 32ms/step - loss: 0.2090 - auc: 0.9864 - auc_1: 0.9858 - val_loss: 0.3054 - val_auc: 0.9246 - val_auc_1: 0.8926\n",
      "Epoch 25/50\n",
      "25/25 [==============================] - 1s 33ms/step - loss: 0.1911 - auc: 0.9893 - auc_1: 0.9890 - val_loss: 0.2983 - val_auc: 0.9328 - val_auc_1: 0.8926\n",
      "Epoch 26/50\n",
      "25/25 [==============================] - 1s 33ms/step - loss: 0.1834 - auc: 0.9898 - auc_1: 0.9890 - val_loss: 0.2878 - val_auc: 0.9401 - val_auc_1: 0.9283\n",
      "Epoch 27/50\n",
      "25/25 [==============================] - 1s 34ms/step - loss: 0.1810 - auc: 0.9938 - auc_1: 0.9937 - val_loss: 0.2914 - val_auc: 0.9368 - val_auc_1: 0.9195\n",
      "Epoch 28/50\n",
      "25/25 [==============================] - 1s 35ms/step - loss: 0.1701 - auc: 0.9934 - auc_1: 0.9932 - val_loss: 0.2858 - val_auc: 0.9413 - val_auc_1: 0.9210\n",
      "Epoch 29/50\n",
      "25/25 [==============================] - 1s 32ms/step - loss: 0.1661 - auc: 0.9935 - auc_1: 0.9928 - val_loss: 0.2751 - val_auc: 0.9467 - val_auc_1: 0.9247\n",
      "Epoch 30/50\n",
      "25/25 [==============================] - 1s 34ms/step - loss: 0.1655 - auc: 0.9962 - auc_1: 0.9962 - val_loss: 0.2801 - val_auc: 0.9411 - val_auc_1: 0.9116\n",
      "Epoch 31/50\n",
      "25/25 [==============================] - 1s 33ms/step - loss: 0.1558 - auc: 0.9957 - auc_1: 0.9957 - val_loss: 0.2973 - val_auc: 0.9340 - val_auc_1: 0.9057\n",
      "Epoch 32/50\n",
      "25/25 [==============================] - 1s 34ms/step - loss: 0.1604 - auc: 0.9956 - auc_1: 0.9957 - val_loss: 0.2736 - val_auc: 0.9418 - val_auc_1: 0.9157\n",
      "Epoch 33/50\n",
      "25/25 [==============================] - 1s 34ms/step - loss: 0.1525 - auc: 0.9962 - auc_1: 0.9961 - val_loss: 0.2802 - val_auc: 0.9415 - val_auc_1: 0.9225\n",
      "Epoch 34/50\n",
      "25/25 [==============================] - 1s 34ms/step - loss: 0.1498 - auc: 0.9948 - auc_1: 0.9943 - val_loss: 0.2894 - val_auc: 0.9388 - val_auc_1: 0.9188\n",
      "Epoch 35/50\n",
      "25/25 [==============================] - 1s 34ms/step - loss: 0.1485 - auc: 0.9941 - auc_1: 0.9924 - val_loss: 0.2808 - val_auc: 0.9381 - val_auc_1: 0.9172\n",
      "Epoch 36/50\n",
      "25/25 [==============================] - 1s 33ms/step - loss: 0.1479 - auc: 0.9954 - auc_1: 0.9953 - val_loss: 0.2886 - val_auc: 0.9386 - val_auc_1: 0.9075\n",
      "Epoch 37/50\n",
      "25/25 [==============================] - 1s 34ms/step - loss: 0.1434 - auc: 0.9955 - auc_1: 0.9952 - val_loss: 0.2762 - val_auc: 0.9462 - val_auc_1: 0.9297\n",
      "Epoch 38/50\n",
      "25/25 [==============================] - 1s 34ms/step - loss: 0.1275 - auc: 0.9984 - auc_1: 0.9984 - val_loss: 0.2701 - val_auc: 0.9491 - val_auc_1: 0.9343\n",
      "Epoch 39/50\n",
      "25/25 [==============================] - 1s 35ms/step - loss: 0.1360 - auc: 0.9957 - auc_1: 0.9955 - val_loss: 0.2883 - val_auc: 0.9459 - val_auc_1: 0.9185\n",
      "Epoch 40/50\n",
      "25/25 [==============================] - 1s 33ms/step - loss: 0.1244 - auc: 0.9986 - auc_1: 0.9985 - val_loss: 0.2697 - val_auc: 0.9450 - val_auc_1: 0.9208\n",
      "Epoch 41/50\n",
      "25/25 [==============================] - 1s 33ms/step - loss: 0.1238 - auc: 0.9974 - auc_1: 0.9973 - val_loss: 0.2690 - val_auc: 0.9500 - val_auc_1: 0.9411\n",
      "Epoch 42/50\n",
      "25/25 [==============================] - 1s 33ms/step - loss: 0.1256 - auc: 0.9978 - auc_1: 0.9978 - val_loss: 0.2608 - val_auc: 0.9538 - val_auc_1: 0.9406\n",
      "Epoch 43/50\n",
      "25/25 [==============================] - 1s 33ms/step - loss: 0.1297 - auc: 0.9972 - auc_1: 0.9972 - val_loss: 0.2705 - val_auc: 0.9521 - val_auc_1: 0.9396\n",
      "Epoch 44/50\n",
      "25/25 [==============================] - 1s 32ms/step - loss: 0.1212 - auc: 0.9977 - auc_1: 0.9977 - val_loss: 0.2673 - val_auc: 0.9522 - val_auc_1: 0.9322\n",
      "Epoch 45/50\n",
      "25/25 [==============================] - 1s 33ms/step - loss: 0.1116 - auc: 0.9989 - auc_1: 0.9989 - val_loss: 0.3080 - val_auc: 0.9438 - val_auc_1: 0.9199\n",
      "Epoch 46/50\n",
      "25/25 [==============================] - 1s 32ms/step - loss: 0.1177 - auc: 0.9985 - auc_1: 0.9985 - val_loss: 0.2665 - val_auc: 0.9540 - val_auc_1: 0.9457\n",
      "Epoch 47/50\n",
      "25/25 [==============================] - 1s 33ms/step - loss: 0.1049 - auc: 0.9995 - auc_1: 0.9995 - val_loss: 0.2686 - val_auc: 0.9509 - val_auc_1: 0.9273\n",
      "Epoch 48/50\n",
      "25/25 [==============================] - 1s 34ms/step - loss: 0.1056 - auc: 0.9996 - auc_1: 0.9996 - val_loss: 0.2646 - val_auc: 0.9554 - val_auc_1: 0.9369\n",
      "Epoch 49/50\n",
      "25/25 [==============================] - 1s 34ms/step - loss: 0.1124 - auc: 0.9977 - auc_1: 0.9976 - val_loss: 0.2747 - val_auc: 0.9463 - val_auc_1: 0.9257\n"
     ]
    },
    {
     "name": "stdout",
     "output_type": "stream",
     "text": [
      "Epoch 50/50\n",
      "25/25 [==============================] - 1s 32ms/step - loss: 0.1021 - auc: 0.9989 - auc_1: 0.9988 - val_loss: 0.2599 - val_auc: 0.9533 - val_auc_1: 0.9430\n"
     ]
    }
   ],
   "source": [
    "history = model.fit(\n",
    "    train_gen,\n",
    "    validation_data=test_gen,\n",
    "    epochs=epochs,\n",
    "    verbose=1,\n",
    "    shuffle=False,\n",
    "    use_multiprocessing=False,\n",
    "    workers=num_workers,\n",
    ")\n"
   ]
  },
  {
   "cell_type": "code",
   "execution_count": 21,
   "metadata": {
    "colab": {
     "base_uri": "https://localhost:8080/",
     "height": 585
    },
    "id": "MxpaZv9XQTbf",
    "outputId": "173bdd30-1d3b-4df9-eeff-87fea7e546ae",
    "scrolled": true
   },
   "outputs": [
    {
     "data": {
      "image/png": "[encoded data removed]",
      "text/plain": [
       "<Figure size 504x864 with 3 Axes>"
      ]
     },
     "metadata": {
      "needs_background": "light"
     },
     "output_type": "display_data"
    }
   ],
   "source": [
    "sg.utils.plot_history(history)"
   ]
  },
  {
   "cell_type": "code",
   "execution_count": 22,
   "metadata": {
    "colab": {
     "base_uri": "https://localhost:8080/"
    },
    "id": "3BFboRRlQTbh",
    "outputId": "ea785e35-4415-4b82-b719-e02d0e1693ad"
   },
   "outputs": [
    {
     "name": "stdout",
     "output_type": "stream",
     "text": [
      "7/7 [==============================] - 0s 20ms/step - loss: 0.2643 - auc: 0.9460 - auc_1: 0.9246\n",
      "Test Evaluation:\n",
      "\tloss: 0.2643\n",
      "\tauc: 0.9460\n",
      "\tauc_1: 0.9246\n"
     ]
    }
   ],
   "source": [
    "test_metrics = model.evaluate(\n",
    "    test_gen, use_multiprocessing=False, workers=num_workers, verbose=1\n",
    ")\n",
    "\n",
    "print(\"Test Evaluation:\")\n",
    "for name, val in zip(model.metrics_names, test_metrics):\n",
    "    print(\"\\t{}: {:0.4f}\".format(name, val))"
   ]
  },
  {
   "cell_type": "code",
   "execution_count": 23,
   "metadata": {},
   "outputs": [
    {
     "name": "stdout",
     "output_type": "stream",
     "text": [
      "25/25 [==============================] - 0s 17ms/step - loss: 0.0733 - auc: 0.9997 - auc_1: 0.9997\n",
      "7/7 [==============================] - 0s 15ms/step - loss: 0.2624 - auc: 0.9530 - auc_1: 0.9380\n",
      "\n",
      "Train Set Metrics of the trained model:\n",
      "\tloss: 0.0733\n",
      "\tauc: 0.9997\n",
      "\tauc_1: 0.9997\n",
      "\n",
      "Test Set Metrics of the trained model:\n",
      "\tloss: 0.2624\n",
      "\tauc: 0.9530\n",
      "\tauc_1: 0.9380\n"
     ]
    }
   ],
   "source": [
    "train_metrics = model.evaluate(train_gen)\n",
    "test_metrics = model.evaluate(test_gen)\n",
    "\n",
    "print(\"\\nTrain Set Metrics of the trained model:\")\n",
    "for name, val in zip(model.metrics_names, train_metrics):\n",
    "    print(\"\\t{}: {:0.4f}\".format(name, val))\n",
    "\n",
    "print(\"\\nTest Set Metrics of the trained model:\")\n",
    "for name, val in zip(model.metrics_names, test_metrics):\n",
    "    print(\"\\t{}: {:0.4f}\".format(name, val))"
   ]
  },
  {
   "cell_type": "code",
   "execution_count": 24,
   "metadata": {
    "colab": {
     "base_uri": "https://localhost:8080/"
    },
    "id": "iRkaSfIeVz-_",
    "outputId": "75456b29-fc63-4d45-bf7e-55b7446210f0",
    "scrolled": true
   },
   "outputs": [
    {
     "name": "stdout",
     "output_type": "stream",
     "text": [
      "Mean Baseline Test set metrics:\n",
      "\troot_mean_square_error =  0.49985125687607806\n",
      "\tmean_absolute_error =  0.49970255828485255\n",
      "\n",
      "Model Test set metrics:\n",
      "\troot_mean_square_error =  0.2920759440753166\n",
      "\tmean_absolute_error =  0.16090472939053202\n"
     ]
    }
   ],
   "source": [
    "y_true = labels_test\n",
    "# Predict the rankings using the model:\n",
    "y_pred = model.predict(test_gen)\n",
    "# Mean baseline rankings = mean movie ranking:\n",
    "y_pred_baseline = np.full_like(y_pred, np.mean(y_true))\n",
    "\n",
    "rmse = np.sqrt(mean_squared_error(y_true, y_pred_baseline))\n",
    "mae = mean_absolute_error(y_true, y_pred_baseline)\n",
    "print(\"Mean Baseline Test set metrics:\")\n",
    "print(\"\\troot_mean_square_error = \", rmse)\n",
    "print(\"\\tmean_absolute_error = \", mae)\n",
    "\n",
    "rmse = np.sqrt(mean_squared_error(y_true, y_pred))\n",
    "mae = mean_absolute_error(y_true, y_pred)\n",
    "print(\"\\nModel Test set metrics:\")\n",
    "print(\"\\troot_mean_square_error = \", rmse)\n",
    "print(\"\\tmean_absolute_error = \", mae)"
   ]
  }
 ],
 "metadata": {
  "colab": {
   "name": "graphsage-link-prediction.ipynb",
   "provenance": []
  },
  "file_extension": ".py",
  "kernelspec": {
   "display_name": "Python 3",
   "language": "python",
   "name": "python3"
  },
  "language_info": {
   "codemirror_mode": {
    "name": "ipython",
    "version": 3
   },
   "file_extension": ".py",
   "mimetype": "text/x-python",
   "name": "python",
   "nbconvert_exporter": "python",
   "pygments_lexer": "ipython3",
   "version": "3.7.6"
  },
  "mimetype": "text/x-python",
  "name": "python",
  "npconvert_exporter": "python",
  "pygments_lexer": "ipython3",
  "version": 3
 },
 "nbformat": 4,
 "nbformat_minor": 1
}
